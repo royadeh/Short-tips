{
 "cells": [
  {
   "cell_type": "code",
   "execution_count": null,
   "id": "c2666a6c",
   "metadata": {},
   "outputs": [],
   "source": [
    "What is deep learning:\n",
    "    \n",
    "    when we have a structured and unstructured data, we should find a function to map x(input) to y(output). \n",
    "    Deeep learning consisting of many neurons which gets input and predicts output. \n",
    "    \n",
    "\n",
    "Some applications of supervised learning(when the data has label):\n",
    "    1)online advertising(input: ad/user info, output/label: click or not?(0/1), Standard NN)\n",
    "    2)photo tagging(input: image, output/label: object (1,2,...,1000), CNN)\n",
    "    3)translation(input: audio, output/label:text, RNN )\n",
    "    4)autonomous driving(input: image/radar info, output: positions of other cars, customized CNN)\n",
    "    \n",
    "Data:\n",
    "    1)structured data(dataframe/table showing features and label/output)\n",
    "    2)unstructured data(image/audio/text)\n",
    "    \n",
    "    \n",
    "Why deep learning:\n",
    "    1)data (large_scale labeled data)\n",
    "    2)computation (GPU/TPU)\n",
    "    3)algorithm(instead of using sigmoid function, we use RELu(gradient descent) to speed up the process of gradient)"
   ]
  }
 ],
 "metadata": {
  "kernelspec": {
   "display_name": "Python 3 (ipykernel)",
   "language": "python",
   "name": "python3"
  },
  "language_info": {
   "codemirror_mode": {
    "name": "ipython",
    "version": 3
   },
   "file_extension": ".py",
   "mimetype": "text/x-python",
   "name": "python",
   "nbconvert_exporter": "python",
   "pygments_lexer": "ipython3",
   "version": "3.9.7"
  }
 },
 "nbformat": 4,
 "nbformat_minor": 5
}
