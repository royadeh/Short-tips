{
 "cells": [
  {
   "cell_type": "markdown",
   "id": "8a06dbea",
   "metadata": {},
   "source": [
    "# Vectorization:"
   ]
  },
  {
   "cell_type": "markdown",
   "id": "99192cc5",
   "metadata": {},
   "source": [
    "we want to do z=wx+b\n",
    "\n",
    "    "
   ]
  },
  {
   "cell_type": "code",
   "execution_count": 9,
   "id": "f7eb9598",
   "metadata": {},
   "outputs": [],
   "source": [
    "import numpy as np\n",
    "import time\n",
    "\n",
    "x=np.random.rand(1000000)\n",
    "w=np.random.rand(1000000)"
   ]
  },
  {
   "cell_type": "code",
   "execution_count": 12,
   "id": "34b95759",
   "metadata": {},
   "outputs": [
    {
     "name": "stdout",
     "output_type": "stream",
     "text": [
      "68655.21430969238 ms\n"
     ]
    }
   ],
   "source": [
    "#non_vectorized\n",
    "z=0\n",
    "b=2\n",
    "strat_time=time.time()\n",
    "for i in range(1000000):\n",
    "    z=w[i]*x[i]\n",
    "    end_time=time.time()\n",
    "z+=b\n",
    "\n",
    "\n",
    "diff_time=(end_time-start_time)\n",
    "print(str(diff_time*1000),\"ms\")\n"
   ]
  },
  {
   "cell_type": "code",
   "execution_count": 13,
   "id": "518623c2",
   "metadata": {},
   "outputs": [
    {
     "name": "stdout",
     "output_type": "stream",
     "text": [
      "1.995086669921875 ms\n"
     ]
    }
   ],
   "source": [
    "#vectorized\n",
    "start_time=time.time()\n",
    "c=np.dot(w,x)\n",
    "end_time=time.time()\n",
    "z=c+2\n",
    "\n",
    "diff_time=(end_time-start_time)\n",
    "print(str(diff_time*1000),\"ms\")\n"
   ]
  },
  {
   "cell_type": "markdown",
   "id": "6c626f88",
   "metadata": {},
   "source": [
    "conclusion: vectorization speed up the process. deep learning uses vectorization to apply a function on all training set. "
   ]
  },
  {
   "cell_type": "code",
   "execution_count": null,
   "id": "942f78c9",
   "metadata": {},
   "outputs": [],
   "source": []
  }
 ],
 "metadata": {
  "kernelspec": {
   "display_name": "Python 3 (ipykernel)",
   "language": "python",
   "name": "python3"
  },
  "language_info": {
   "codemirror_mode": {
    "name": "ipython",
    "version": 3
   },
   "file_extension": ".py",
   "mimetype": "text/x-python",
   "name": "python",
   "nbconvert_exporter": "python",
   "pygments_lexer": "ipython3",
   "version": "3.9.7"
  }
 },
 "nbformat": 4,
 "nbformat_minor": 5
}
